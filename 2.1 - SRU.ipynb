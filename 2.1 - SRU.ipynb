{
 "cells": [
  {
   "cell_type": "code",
   "execution_count": 1,
   "metadata": {},
   "outputs": [],
   "source": [
    "from lxml import etree\n",
    "import requests\n",
    "import pandas as pd"
   ]
  },
  {
   "cell_type": "code",
   "execution_count": 2,
   "metadata": {},
   "outputs": [],
   "source": [
    "def getDCDataMMS(mms_id):\n",
    "    cont=requests.get('https://obv-at-oenb.alma.exlibrisgroup.com/view/sru/43ACC_ONB?version=1.2&query=alma.mms_id=' \n",
    "                      + mms_id + '&startRecord=0&maximumRecords=1&operation=searchRetrieve&recordSchema=dc').content\n",
    "    e = etree.XML(cont)\n",
    "    namespaces = {\n",
    "        'srw': 'http://www.loc.gov/zing/srw/',\n",
    "        'srw_dc': 'info:srw/schema/1/dc-schema',\n",
    "        'dc': 'http://purl.org/dc/elements/1.1/'\n",
    "    }\n",
    "    xpath = '/srw:searchRetrieveResponse/srw:records/srw:record/srw:recordData/srw_dc:dc/dc:{}/text()'\n",
    "    \n",
    "    titleResult = e.xpath(xpath.format('title'), namespaces=namespaces)\n",
    "    title = \"; \".join(titleResult) if titleResult else ''\n",
    "    \n",
    "    contributorResult = e.xpath(xpath.format('contributor'), namespaces=namespaces)\n",
    "    contributor = \"; \".join(contributorResult) if contributorResult else ''\n",
    "    \n",
    "    dateResult = e.xpath(xpath.format('date'), namespaces=namespaces)\n",
    "    date = \"; \".join(dateResult) if dateResult else ''\n",
    "    return [title, contributor, date]"
   ]
  },
  {
   "cell_type": "code",
   "execution_count": 3,
   "metadata": {},
   "outputs": [
    {
     "data": {
      "text/plain": [
       "['Sammlung der besten Reisebeschreibungen', '', '1784']"
      ]
     },
     "execution_count": 3,
     "metadata": {},
     "output_type": "execute_result"
    }
   ],
   "source": [
    "getDCDataMMS(str(990048102650603338))"
   ]
  },
  {
   "cell_type": "code",
   "execution_count": null,
   "metadata": {},
   "outputs": [],
   "source": []
  }
 ],
 "metadata": {
  "kernelspec": {
   "display_name": "pydays19",
   "language": "python",
   "name": "pydays19"
  },
  "language_info": {
   "codemirror_mode": {
    "name": "ipython",
    "version": 3
   },
   "file_extension": ".py",
   "mimetype": "text/x-python",
   "name": "python",
   "nbconvert_exporter": "python",
   "pygments_lexer": "ipython3",
   "version": "3.6.7"
  }
 },
 "nbformat": 4,
 "nbformat_minor": 2
}
