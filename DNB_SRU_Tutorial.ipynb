{
 "cells": [
  {
   "cell_type": "markdown",
   "metadata": {
    "nbpresent": {
     "id": "d0d72cd5-034d-4b94-a4e2-54f7753cb9f0"
    }
   },
   "source": [
    "# DNBLab Jupyter Notebook Tutorial"
   ]
  },
  {
   "cell_type": "markdown",
   "metadata": {
    "nbpresent": {
     "id": "558898c3-e162-4e46-92d5-b4c914325790"
    }
   },
   "source": [
    "## SRU - Schnittstellenabfrage, Datenauslieferung und Ergebnisanzeige"
   ]
  },
  {
   "cell_type": "markdown",
   "metadata": {
    "nbpresent": {
     "id": "ee78241c-36e7-45e6-b015-0ef46f1e777d"
    }
   },
   "source": [
    "Dieses DNBLab-Tutorial beschreibt eine Beispielabfrage über die SRU-Schnittstelle mit Python. In der Jupyter Notebook Umgebung kann der dokumentierte Code direkt ausgeführt und angepasst werden. Das Tutorial umfasst die exemplarische Anfrage und Ausgabe der Daten in MARC21-xml zur weiteren Verarbeitung. "
   ]
  },
  {
   "cell_type": "markdown",
   "metadata": {},
   "source": [
    "Die Daten können über die SRU-Schnittstelle als XML-Antwort in folgenden Formaten ausgeliefert werden: \n",
    "* MARC21-xml http://www.loc.gov/standards/marcxml/schema/MARC21slim.xsd\n",
    "* DNB Casual (oai_dc)\thttp://www.openarchives.org/OAI/2.0/oai_dc.xsd\n",
    "* RDF (RDFxml) http://www.w3.org/2000/07/rdf.xsd"
   ]
  },
  {
   "cell_type": "markdown",
   "metadata": {
    "nbpresent": {
     "id": "3c6f6024-cb7c-4b65-8646-a753069cb5a4"
    }
   },
   "source": [
    "## Einrichten der Arbeitsumgebung <a class=\"anchor\" id=\"Teil1\"></a>\n",
    "\n",
    "Um die Arbeitsumgebung für die folgenden Schritte passend einzurichten, sollten zunächst die benötigten Python-Bibliotheken importiert werden. Für Anfragen über die SRU-Schnittstelle wird BeautifulSoup https://www.crummy.com/software/BeautifulSoup/ und zur Verarbeitung der XML-Daten etree https://docs.python.org/3/library/xml.etree.elementtree.html verwendet. Mit Pandas https://pandas.pydata.org/ können Elemente aus dem MARC21-Format ausgelesen werden."
   ]
  },
  {
   "cell_type": "code",
   "execution_count": 1,
   "metadata": {},
   "outputs": [],
   "source": [
    "import requests\n",
    "from bs4 import BeautifulSoup as soup\n",
    "import unicodedata\n",
    "from lxml import etree\n",
    "import pandas as pd"
   ]
  },
  {
   "cell_type": "markdown",
   "metadata": {},
   "source": [
    "## SRU-Abfrage mit Ausgabe in MARC21-xml<a class=\"anchor\" id=\"Teil2\"></a>\n",
    "\n",
    "Die Funktion dnb_sru nimmt den Paramter \"query\" der SRU-Abfrage entgegen und liefert alle Ergebnisse als eine Liste von Records aus. Bei mehr als 100 Records werden weitere Datensätze mit \"&startRecord=101\" abgerufen (mögliche Werte 1 bis 99.000). Weitere Informationen und Funktionen der SRU- Schnittstelle werden unter https://www.dnb.de/sru beschrieben."
   ]
  },
  {
   "cell_type": "code",
   "execution_count": 2,
   "metadata": {},
   "outputs": [],
   "source": [
    "def dnb_sru(query):\n",
    "    \n",
    "    base_url = \"https://services.dnb.de/sru/dnb\"\n",
    "    params = {'recordSchema' : 'MARC21-xml',\n",
    "          'operation': 'searchRetrieve',\n",
    "          'version': '1.1',\n",
    "          'maximumRecords': '100',\n",
    "          'query': query\n",
    "         }\n",
    "    r = requests.get(base_url, params=params)\n",
    "    xml = soup(r.content)\n",
    "    records = xml.find_all('record', {'type':'Bibliographic'})\n",
    "    \n",
    "    if len(records) < 100:\n",
    "        \n",
    "        return records\n",
    "    \n",
    "    else:\n",
    "        \n",
    "        num_results = 100\n",
    "        i = 101\n",
    "        while num_results == 100:\n",
    "            \n",
    "            params.update({'startRecord': i})\n",
    "            r = requests.get(base_url, params=params)\n",
    "            xml = soup(r.content)\n",
    "            new_records = xml.find_all('record', {'type':'Bibliographic'})\n",
    "            records+=new_records\n",
    "            i+=100\n",
    "            num_results = len(new_records)\n",
    "            \n",
    "        return records"
   ]
  },
  {
   "cell_type": "markdown",
   "metadata": {},
   "source": [
    "## Durchsuchen eines MARC-Feldes<a class=\"anchor\" id=\"Teil3\"></a>\n",
    "\n",
    "Die Funktion parse_records nimmt als Parameter jeweils ein Record entgegen und sucht über xpath die gewünschte Informationen heraus und liefert diese als Dictionary zurück. Die Schlüssel-Werte-Paare können beliebig agepasst und erweitert werden. In diesem Fall werden Elemente für IDN und Titel geliefert."
   ]
  },
  {
   "cell_type": "code",
   "execution_count": 3,
   "metadata": {},
   "outputs": [],
   "source": [
    "def parse_record(record):\n",
    "    \n",
    "    ns = {\"marc\":\"http://www.loc.gov/MARC21/slim\"}\n",
    "    xml = etree.fromstring(unicodedata.normalize(\"NFC\", str(record)))\n",
    "    \n",
    "    #idn\n",
    "    idn = xml.xpath(\"marc:controlfield[@tag = '001']\", namespaces=ns)\n",
    "    try:\n",
    "        idn = idn[0].text\n",
    "    except:\n",
    "        idn = 'fail'\n",
    "    \n",
    "    # titel\n",
    "    titel = xml.xpath(\"marc:datafield[@tag = '245']/marc:subfield[@code = 'a']\", namespaces=ns)\n",
    "    \n",
    "    try:\n",
    "        titel = titel[0].text\n",
    "        #umfang = unicodedata.normalize(\"NFC\", umfang)\n",
    "    except:\n",
    "        titel = \"unkown\"\n",
    "        \n",
    "    meta_dict = {\"idn\":idn,\n",
    "                 \"titel\":titel}\n",
    "    \n",
    "    return meta_dict"
   ]
  },
  {
   "cell_type": "markdown",
   "metadata": {},
   "source": [
    "Über die verschiedenen Indices https://services.dnb.de/sru/dnb?operation=explain&version=1.1 kann die SRU-Abfrage mittels CQL gezielt z.B. über das Titelstichwort \"Klimawandel\" in Kombination mit dem Standort \"online frei verfügbar\" eingeschränkt werden. Auf diese Art kann durch Anpassen des Codes nach verschiedenen Begriffen in beliebigen MARC-Feldern gesucht werden. "
   ]
  },
  {
   "cell_type": "code",
   "execution_count": 4,
   "metadata": {},
   "outputs": [
    {
     "name": "stdout",
     "output_type": "stream",
     "text": [
      "467 Ergebnisse\n"
     ]
    }
   ],
   "source": [
    "records = dnb_sru('tit=Klimawandel and location=onlinefree')\n",
    "print(len(records), 'Ergebnisse')"
   ]
  },
  {
   "cell_type": "markdown",
   "metadata": {},
   "source": [
    "## Beispielanzeige zur weiteren Bearbeitung <a class=\"anchor\" id=\"Teil4\"></a>\n",
    "\n",
    "Mit der \"Python Data Analysis Library\" Pandas für Python werden die Ergebnisse (Dictionary-Elemente) als Dataframe ausgegeben. Die ersten 5 und letzten 5 Zeilen des Dataframes können mit dem Befehl \"df = pd.DataFrame() angezeigt werden. "
   ]
  },
  {
   "cell_type": "code",
   "execution_count": 5,
   "metadata": {},
   "outputs": [
    {
     "data": {
      "text/html": [
       "<div>\n",
       "<style scoped>\n",
       "    .dataframe tbody tr th:only-of-type {\n",
       "        vertical-align: middle;\n",
       "    }\n",
       "\n",
       "    .dataframe tbody tr th {\n",
       "        vertical-align: top;\n",
       "    }\n",
       "\n",
       "    .dataframe thead th {\n",
       "        text-align: right;\n",
       "    }\n",
       "</style>\n",
       "<table border=\"1\" class=\"dataframe\">\n",
       "  <thead>\n",
       "    <tr style=\"text-align: right;\">\n",
       "      <th></th>\n",
       "      <th>idn</th>\n",
       "      <th>titel</th>\n",
       "    </tr>\n",
       "  </thead>\n",
       "  <tbody>\n",
       "    <tr>\n",
       "      <th>0</th>\n",
       "      <td>1230754067</td>\n",
       "      <td>Das Klima macht uns krank!</td>\n",
       "    </tr>\n",
       "    <tr>\n",
       "      <th>1</th>\n",
       "      <td>1230754121</td>\n",
       "      <td>Fällt uns das Dach der Welt bald auf den Kopf?</td>\n",
       "    </tr>\n",
       "    <tr>\n",
       "      <th>2</th>\n",
       "      <td>1230754253</td>\n",
       "      <td>Folgen des Klimawandel in Mitteleuropa</td>\n",
       "    </tr>\n",
       "    <tr>\n",
       "      <th>3</th>\n",
       "      <td>1228535671</td>\n",
       "      <td>How does climate change affect human behavior?...</td>\n",
       "    </tr>\n",
       "    <tr>\n",
       "      <th>4</th>\n",
       "      <td>123123976X</td>\n",
       "      <td>Identifizierung von für Deutschland relevanten...</td>\n",
       "    </tr>\n",
       "    <tr>\n",
       "      <th>...</th>\n",
       "      <td>...</td>\n",
       "      <td>...</td>\n",
       "    </tr>\n",
       "    <tr>\n",
       "      <th>462</th>\n",
       "      <td>1127681362</td>\n",
       "      <td>Namibia: Biodiversitätsmanagement und Klimawandel</td>\n",
       "    </tr>\n",
       "    <tr>\n",
       "      <th>463</th>\n",
       "      <td>1228308977</td>\n",
       "      <td>Naturschutz und Klimawandel im Leipziger Auwald</td>\n",
       "    </tr>\n",
       "    <tr>\n",
       "      <th>464</th>\n",
       "      <td>1217229078</td>\n",
       "      <td>Neue Herausforderungen für die Anästhesie durc...</td>\n",
       "    </tr>\n",
       "    <tr>\n",
       "      <th>465</th>\n",
       "      <td>1142648214</td>\n",
       "      <td>Peru Leben mit dem Klimawandel</td>\n",
       "    </tr>\n",
       "    <tr>\n",
       "      <th>466</th>\n",
       "      <td>1209833719</td>\n",
       "      <td>Tadschikistan: Nachhaltige Waldbewirtschaftung...</td>\n",
       "    </tr>\n",
       "  </tbody>\n",
       "</table>\n",
       "<p>467 rows × 2 columns</p>\n",
       "</div>"
      ],
      "text/plain": [
       "            idn                                              titel\n",
       "0    1230754067                       Das Klima macht uns krank!\n",
       "1    1230754121     Fällt uns das Dach der Welt bald auf den Kopf?\n",
       "2    1230754253             Folgen des Klimawandel in Mitteleuropa\n",
       "3    1228535671  How does climate change affect human behavior?...\n",
       "4    123123976X  Identifizierung von für Deutschland relevanten...\n",
       "..          ...                                                ...\n",
       "462  1127681362  Namibia: Biodiversitätsmanagement und Klimawandel\n",
       "463  1228308977    Naturschutz und Klimawandel im Leipziger Auwald\n",
       "464  1217229078  Neue Herausforderungen für die Anästhesie durc...\n",
       "465  1142648214                     Peru Leben mit dem Klimawandel\n",
       "466  1209833719  Tadschikistan: Nachhaltige Waldbewirtschaftung...\n",
       "\n",
       "[467 rows x 2 columns]"
      ]
     },
     "execution_count": 5,
     "metadata": {},
     "output_type": "execute_result"
    }
   ],
   "source": [
    "output = [parse_record(record) for record in records]\n",
    "df = pd.DataFrame(output)\n",
    "df"
   ]
  },
  {
   "cell_type": "code",
   "execution_count": null,
   "metadata": {},
   "outputs": [],
   "source": []
  }
 ],
 "metadata": {
  "anaconda-cloud": {},
  "kernelspec": {
   "display_name": "Python 3",
   "language": "python",
   "name": "python3"
  },
  "language_info": {
   "codemirror_mode": {
    "name": "ipython",
    "version": 3
   },
   "file_extension": ".py",
   "mimetype": "text/x-python",
   "name": "python",
   "nbconvert_exporter": "python",
   "pygments_lexer": "ipython3",
   "version": "3.7.10"
  }
 },
 "nbformat": 4,
 "nbformat_minor": 2
}
